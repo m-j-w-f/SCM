{
 "cells": [
  {
   "cell_type": "code",
   "execution_count": 4,
   "metadata": {},
   "outputs": [],
   "source": [
    "import numpy as np\n",
    "import pandas as pd\n",
    "from gurobipy import Model, GRB, Var"
   ]
  },
  {
   "cell_type": "code",
   "execution_count": 5,
   "metadata": {},
   "outputs": [
    {
     "data": {
      "text/html": [
       "<div>\n",
       "<style scoped>\n",
       "    .dataframe tbody tr th:only-of-type {\n",
       "        vertical-align: middle;\n",
       "    }\n",
       "\n",
       "    .dataframe tbody tr th {\n",
       "        vertical-align: top;\n",
       "    }\n",
       "\n",
       "    .dataframe thead th {\n",
       "        text-align: right;\n",
       "    }\n",
       "</style>\n",
       "<table border=\"1\" class=\"dataframe\">\n",
       "  <thead>\n",
       "    <tr style=\"text-align: right;\">\n",
       "      <th></th>\n",
       "      <th>fi</th>\n",
       "      <th>ai</th>\n",
       "    </tr>\n",
       "  </thead>\n",
       "  <tbody>\n",
       "    <tr>\n",
       "      <th>0</th>\n",
       "      <td>689</td>\n",
       "      <td>103</td>\n",
       "    </tr>\n",
       "    <tr>\n",
       "      <th>1</th>\n",
       "      <td>723</td>\n",
       "      <td>101</td>\n",
       "    </tr>\n",
       "    <tr>\n",
       "      <th>2</th>\n",
       "      <td>855</td>\n",
       "      <td>76</td>\n",
       "    </tr>\n",
       "    <tr>\n",
       "      <th>3</th>\n",
       "      <td>350</td>\n",
       "      <td>106</td>\n",
       "    </tr>\n",
       "    <tr>\n",
       "      <th>4</th>\n",
       "      <td>699</td>\n",
       "      <td>62</td>\n",
       "    </tr>\n",
       "    <tr>\n",
       "      <th>5</th>\n",
       "      <td>361</td>\n",
       "      <td>109</td>\n",
       "    </tr>\n",
       "    <tr>\n",
       "      <th>6</th>\n",
       "      <td>552</td>\n",
       "      <td>74</td>\n",
       "    </tr>\n",
       "    <tr>\n",
       "      <th>7</th>\n",
       "      <td>443</td>\n",
       "      <td>115</td>\n",
       "    </tr>\n",
       "  </tbody>\n",
       "</table>\n",
       "</div>"
      ],
      "text/plain": [
       "    fi   ai\n",
       "0  689  103\n",
       "1  723  101\n",
       "2  855   76\n",
       "3  350  106\n",
       "4  699   62\n",
       "5  361  109\n",
       "6  552   74\n",
       "7  443  115"
      ]
     },
     "execution_count": 5,
     "metadata": {},
     "output_type": "execute_result"
    }
   ],
   "source": [
    "data = pd.read_excel(\"Exercise4_Location_Planning_Data.xlsx\",sheet_name=\"Tabelle1\", header=0)\n",
    "\n",
    "data2 = pd.read_excel(\"Exercise4_Location_Planning_Data.xlsx\",sheet_name=\"Tabelle2\", header=0)\n",
    "data2"
   ]
  },
  {
   "cell_type": "code",
   "execution_count": 6,
   "metadata": {},
   "outputs": [],
   "source": [
    "C = np.array(data.loc[:,\"Location 1\":\"Location 8\"]).T\n",
    "b = np.array(data.loc[:,\"bj\"])\n",
    "\n",
    "a = np.array(data2.loc[:,\"ai\"])\n",
    "f = np.array(data2.loc[:,\"fi\"])"
   ]
  },
  {
   "cell_type": "code",
   "execution_count": 7,
   "metadata": {},
   "outputs": [
    {
     "name": "stdout",
     "output_type": "stream",
     "text": [
      "Set parameter Username\n",
      "Academic license - for non-commercial use only - expires 2023-06-29\n",
      "Gurobi Optimizer version 9.5.1 build v9.5.1rc2 (win64)\n",
      "Thread count: 6 physical cores, 6 logical processors, using up to 6 threads\n",
      "Optimize a model with 20 rows, 88 columns and 178 nonzeros\n",
      "Model fingerprint: 0x8a761b00\n",
      "Variable types: 80 continuous, 8 integer (8 binary)\n",
      "Coefficient statistics:\n",
      "  Matrix range     [1e+00, 1e+02]\n",
      "  Objective range  [1e+01, 9e+02]\n",
      "  Bounds range     [1e+00, 1e+00]\n",
      "  RHS range        [1e+00, 6e+01]\n",
      "Presolve time: 0.00s\n",
      "Presolved: 20 rows, 88 columns, 178 nonzeros\n",
      "Variable types: 80 continuous, 8 integer (8 binary)\n",
      "Found heuristic solution: objective 8429.0000000\n",
      "\n",
      "Root relaxation: objective 6.074463e+03, 14 iterations, 0.00 seconds (0.00 work units)\n",
      "\n",
      "    Nodes    |    Current Node    |     Objective Bounds      |     Work\n",
      " Expl Unexpl |  Obj  Depth IntInf | Incumbent    BestBd   Gap | It/Node Time\n",
      "\n",
      "     0     0 6074.46279    0    7 8429.00000 6074.46279  27.9%     -    0s\n",
      "H    0     0                    8330.0000000 6736.19739  19.1%     -    0s\n",
      "H    0     0                    7884.0000000 6913.86755  12.3%     -    0s\n",
      "     0     0 6972.69482    0    6 7884.00000 6972.69482  11.6%     -    0s\n",
      "H    0     0                    7739.0000000 7059.75518  8.78%     -    0s\n",
      "     0     0 7739.00000    0    6 7739.00000 7739.00000  0.00%     -    0s\n",
      "\n",
      "Cutting planes:\n",
      "  Implied bound: 6\n",
      "  Relax-and-lift: 2\n",
      "\n",
      "Explored 1 nodes (32 simplex iterations) in 0.01 seconds (0.00 work units)\n",
      "Thread count was 6 (of 6 available processors)\n",
      "\n",
      "Solution count 4: 7739 7884 8330 8429 \n",
      "\n",
      "Optimal solution found (tolerance 1.00e-04)\n",
      "Best objective 7.739000000000e+03, best bound 7.739000000000e+03, gap 0.0000%\n"
     ]
    }
   ],
   "source": [
    "m = Model(\"WLP\")\n",
    "\n",
    "X = m.addMVar(C.shape, vtype = GRB.CONTINUOUS, lb=float(0), ub=float('inf'), name = \"X\")\n",
    "y = m.addMVar(shape = (8), vtype = GRB.BINARY, name=\"y\")\n",
    "m.update()\n",
    "\n",
    "m.addConstrs(X[:,j]@np.ones(8) == b[j] for j in range(10)) # Meet demand b_j\n",
    "\n",
    "m.addConstrs(X[i,:]@np.ones(10) <= a[i]*y[i] for i in range(8)) # Demand restriction\n",
    "\n",
    "m.addConstr(sum(y) <= 3) # Max 3 Locations\n",
    "m.addConstr(y[4]+y[5] <= 1) # 3 and 4 mutually exclusive\n",
    "m.update()\n",
    "\n",
    "m.setObjective(sum(C[i,j]*X[i,j] for i in range(8) for j in range(10)) + f@y)\n",
    "m.optimize()"
   ]
  },
  {
   "cell_type": "code",
   "execution_count": 8,
   "metadata": {},
   "outputs": [
    {
     "data": {
      "text/plain": [
       "array([[ 0.,  0.,  0.,  0.,  0.,  0.,  0.,  0.,  0.,  0.],\n",
       "       [ 0.,  0.,  0.,  0.,  0.,  0.,  0.,  0.,  0.,  0.],\n",
       "       [ 0., 40.,  0.,  0.,  0.,  0., 16.,  0., 20.,  0.],\n",
       "       [10.,  0., 11.,  0., 46., 13.,  0., 18.,  0.,  0.],\n",
       "       [ 0.,  0.,  0.,  0.,  0.,  0.,  0.,  0.,  0.,  0.],\n",
       "       [ 0.,  0.,  0., 39.,  0.,  0.,  2., 42.,  0., 26.],\n",
       "       [ 0.,  0.,  0.,  0.,  0.,  0.,  0.,  0.,  0.,  0.],\n",
       "       [ 0.,  0.,  0.,  0.,  0.,  0.,  0.,  0.,  0.,  0.]])"
      ]
     },
     "execution_count": 8,
     "metadata": {},
     "output_type": "execute_result"
    }
   ],
   "source": [
    "np.array(m.getAttr('X')[:80]).reshape(C.shape)"
   ]
  },
  {
   "cell_type": "code",
   "execution_count": 9,
   "metadata": {},
   "outputs": [
    {
     "name": "stdout",
     "output_type": "stream",
     "text": [
      "X:\n",
      "[[ 0.  0.  0.  0.  0.  0.  0.  0.  0.  0.]\n",
      " [ 0.  0.  0.  0.  0.  0.  0.  0.  0.  0.]\n",
      " [ 0. 40.  0.  0.  0.  0. 16.  0. 20.  0.]\n",
      " [10.  0. 11.  0. 46. 13.  0. 18.  0.  0.]\n",
      " [ 0.  0.  0.  0.  0.  0.  0.  0.  0.  0.]\n",
      " [ 0.  0.  0. 39.  0.  0.  2. 42.  0. 26.]\n",
      " [ 0.  0.  0.  0.  0.  0.  0.  0.  0.  0.]\n",
      " [ 0.  0.  0.  0.  0.  0.  0.  0.  0.  0.]]\n",
      "y:\n",
      "[-0. -0.  1.  1.  0.  1. -0. -0.]\n",
      "optimal Value:\n",
      "7739.0\n"
     ]
    }
   ],
   "source": [
    "print(\"X:\")\n",
    "print(np.array(m.getAttr(\"X\")[:80]).reshape(C.shape))\n",
    "print(\"y:\")\n",
    "print(np.array(m.getAttr(\"X\")[80:]).reshape(a.shape))\n",
    "print(\"optimal Value:\")\n",
    "print(m.objVal)"
   ]
  }
 ],
 "metadata": {
  "kernelspec": {
   "display_name": "Python 3.7.13 ('GO1')",
   "language": "python",
   "name": "python3"
  },
  "language_info": {
   "codemirror_mode": {
    "name": "ipython",
    "version": 3
   },
   "file_extension": ".py",
   "mimetype": "text/x-python",
   "name": "python",
   "nbconvert_exporter": "python",
   "pygments_lexer": "ipython3",
   "version": "3.7.13"
  },
  "orig_nbformat": 4,
  "vscode": {
   "interpreter": {
    "hash": "ad48721da5f12011362dd6407cb65fda34afbfe1199a40f252a4ca158cc5b0f5"
   }
  }
 },
 "nbformat": 4,
 "nbformat_minor": 2
}
